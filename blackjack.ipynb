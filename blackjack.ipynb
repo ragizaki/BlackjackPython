{
 "cells": [
  {
   "cell_type": "markdown",
   "metadata": {
    "collapsed": true
   },
   "source": [
    "# Blackjack Python Project - Zaki Machfj\n",
    "This is a project I worked on to improve my OOP skills in Python, as well as improving my use of Anaconda Navigator and the Jupyter Notebook. Reference the list of rules below if you are unfamiliar with the rules of Blackjack, otherwise skip to the code below!"
   ]
  },
  {
   "cell_type": "markdown",
   "metadata": {},
   "source": [
    "## Blackjack Rules\n",
    "Below are the rules for the version of Blackjack you will be playing\n",
    "1. You will place a bet of how many chips you are willing to put up for the round\n",
    "2. You and the dealer will each be dealt two cards\n",
    "3. Only one of the Dealer's cards will be shown\n",
    "4. If you hit, you will receive another card and its value will be added\n",
    "5. Each card has an inherent value (i.e. 2 = 2, King = 10, etc.)\n",
    "6. The goal of the game is to get as close a score to 21 as possible\n",
    "7. If you Bust (go over 21), you automatically lose\n",
    "8. If you are satisfied with your value, you may choose to stand and the Computer will then hit\n",
    "9. The Computer is designed to hit until they meet or exceed the score of 17"
   ]
  },
  {
   "cell_type": "markdown",
   "metadata": {},
   "source": [
    "## Suits, Ranks and Values\n",
    "Our deck of cards will be a standard deck with four suits (Hearts, Diamonds, Spades, Clubs),\n",
    "and thirteen ranks (ranks 2 through 10, then the Jack, Queen, King and Ace).\n",
    " - The deck will have 52 cards.\n",
    " - Jacks, Queens and Kings will have a value of 10\n",
    " - Aces have the optional score of either 11 or 1, to be used strategically"
   ]
  },
  {
   "cell_type": "code",
   "execution_count": 1,
   "metadata": {},
   "outputs": [],
   "source": [
    "import random\n",
    "\n",
    "# Creating global references for the suits, ranks and values to be used throughout\n",
    "suits = ('Hearts', 'Diamonds', 'Spades', 'Clubs')\n",
    "ranks = ('Two', 'Three', 'Four', 'Five', 'Six', 'Seven', 'Eight', 'Nine', 'Ten', 'Jack', 'Queen', 'King', 'Ace')\n",
    "values = {'Two':2, 'Three':3, 'Four':4, 'Five':5, 'Six':6, 'Seven':7, 'Eight':8, 'Nine':9, 'Ten':10, 'Jack':10,\n",
    "         'Queen':10, 'King':10, 'Ace':11}\n",
    "\n",
    "game_on = True"
   ]
  },
  {
   "cell_type": "code",
   "execution_count": 2,
   "metadata": {},
   "outputs": [],
   "source": [
    "class Card:\n",
    "    \n",
    "    def __init__(self, suit, rank):\n",
    "        self.suit = suit\n",
    "        self.rank = rank\n",
    "    \n",
    "    def __str__(self):\n",
    "        return \"{} of {}\".format(self.rank, self.suit)"
   ]
  },
  {
   "cell_type": "code",
   "execution_count": 3,
   "metadata": {},
   "outputs": [],
   "source": [
    "class Deck:\n",
    "    \n",
    "    def __init__(self):\n",
    "        \n",
    "        self.deck = []  # start with empty list\n",
    "        for suit in suits:\n",
    "            for rank in ranks:\n",
    "                self.deck.append(Card(suit, rank))\n",
    "    \n",
    "    def __str__(self):\n",
    "        for card in self.deck:\n",
    "            print(card)\n",
    "    \n",
    "    def shuffle(self):\n",
    "        random.shuffle(self.deck)\n",
    "    \n",
    "    def deal(self):\n",
    "        return self.deck.pop()"
   ]
  },
  {
   "cell_type": "code",
   "execution_count": 4,
   "metadata": {},
   "outputs": [],
   "source": [
    "class Hand:\n",
    "    def __init__(self):\n",
    "        self.cards = []  # start with an empty list as we did in the Deck class\n",
    "        self.value = 0   # start with zero value\n",
    "        self.aces = 0    # add an attribute to keep track of aces\n",
    "    \n",
    "    def add_card(self,card):\n",
    "        # card passed in\n",
    "        # from Deck.deal() --> single Card(suit, rank) object\n",
    "        self.cards.append(card)\n",
    "        self.value += values[card.rank]\n",
    "        \n",
    "        # track Aces\n",
    "        if card.rank == 'Ace':\n",
    "            self.aces += 1\n",
    "    \n",
    "    # adjust an Ace to either 21 or 1 if needed\n",
    "    def adjust_for_ace(self):\n",
    "        \n",
    "        while self.value > 21 and self.aces:\n",
    "            self.value -= 10\n",
    "            self.aces -= 1"
   ]
  },
  {
   "cell_type": "code",
   "execution_count": 5,
   "metadata": {},
   "outputs": [],
   "source": [
    "class Chips:\n",
    "    \n",
    "    def __init__(self):\n",
    "        self.total = 100 # Default value, but can be changed with user input\n",
    "        self.bet = 0\n",
    "        \n",
    "    def win_bet(self):\n",
    "        self.total += self.bet\n",
    "    \n",
    "    def lose_bet(self):\n",
    "        self.total -= self.bet"
   ]
  },
  {
   "cell_type": "markdown",
   "metadata": {},
   "source": [
    "**Step 6: Write a function for taking bets**<br>\n",
    "Since we're asking the user for an integer value, this would be a good place to use <code>try</code>/<code>except</code>. Remember to check that a Player's bet can be covered by their available chips."
   ]
  },
  {
   "cell_type": "code",
   "execution_count": 6,
   "metadata": {},
   "outputs": [],
   "source": [
    "def take_bet(chips):\n",
    "    \n",
    "    while True:\n",
    "        try:\n",
    "            chips.bet = int(input('\\nHow many chips would you like to bet?: '))\n",
    "        except:\n",
    "            print('Sorry, please provide a number.')\n",
    "        else:\n",
    "            if chips.bet > chips.total:\n",
    "                print('Sorry, you do not have enough chips! You have: {}'.format(chips.total))\n",
    "            else:\n",
    "                break"
   ]
  },
  {
   "cell_type": "code",
   "execution_count": 7,
   "metadata": {},
   "outputs": [],
   "source": [
    "def hit(deck,hand):\n",
    "    \n",
    "    hand.add_card(deck.deal())\n",
    "    hand.adjust_for_ace()"
   ]
  },
  {
   "cell_type": "code",
   "execution_count": 8,
   "metadata": {},
   "outputs": [],
   "source": [
    "def hit_or_stand(deck,hand):\n",
    "    global game_on  # to control an upcoming while loop\n",
    "    \n",
    "    while True:\n",
    "        x = input('Hit or Stand? Enter h or s: ')\n",
    "        if x[0].lower() == 'h':\n",
    "            hit(deck, hand)\n",
    "        \n",
    "        elif x[0].lower() == 's':\n",
    "            print('Player Stands Dealers Turn')\n",
    "            game_on = False\n",
    "        else:\n",
    "            print(\"Sorry, I did not understand that, Please enter h or s only!\")\n",
    "            continue\n",
    "        \n",
    "        break"
   ]
  },
  {
   "cell_type": "code",
   "execution_count": 9,
   "metadata": {},
   "outputs": [],
   "source": [
    "# only showing the Dealer's one card\n",
    "def show_some(player,dealer):\n",
    "    print(\"\\nDealer's Hand:\")\n",
    "    print(\" <card hidden>\")\n",
    "    print('',dealer.cards[1])  \n",
    "    print(\"\\nPlayer's Hand:\", *player.cards, sep='\\n ')\n",
    "\n",
    "# showing both Player's cards\n",
    "def show_all(player,dealer):\n",
    "    print(\"\\nDealer's Hand:\", *dealer.cards, sep='\\n ')\n",
    "    print(\"Dealer's Hand =\",dealer.value)\n",
    "    print(\"\\nPlayer's Hand:\", *player.cards, sep='\\n ')\n",
    "    print(\"Player's Hand =\",player.value)"
   ]
  },
  {
   "cell_type": "code",
   "execution_count": 10,
   "metadata": {},
   "outputs": [],
   "source": [
    "# sequence of functions dealing with bust/win variations\n",
    "# handles both Player and Dealer situations\n",
    "def player_busts(player, dealer, chips):\n",
    "    print(\"\\nPlayer has gone over 21 and busted!\")\n",
    "    chips.lose_bet()\n",
    "\n",
    "def player_wins(player, dealer, chips):\n",
    "    print(\"\\nPlayer wins the game!\")\n",
    "    chips.win_bet()\n",
    "\n",
    "def dealer_busts(player, dealer, chips):\n",
    "    print(\"\\nDealer has busted! Player wins the game!\")\n",
    "    chips.win_bet()\n",
    "    \n",
    "def dealer_wins(player, dealer, chips):\n",
    "    print(\"\\nDealer has won the game!\")\n",
    "    chips.lose_bet()\n",
    "    \n",
    "def push(player, dealer):\n",
    "    print('\\nDealer and Player tie! PUSH')"
   ]
  },
  {
   "cell_type": "code",
   "execution_count": null,
   "metadata": {},
   "outputs": [
    {
     "name": "stdout",
     "output_type": "stream",
     "text": [
      "WELCOME TO BLACKJACK\n",
      "You have 100 chips\n"
     ]
    }
   ],
   "source": [
    "# GAME LOGIC\n",
    "\n",
    "while True:\n",
    "    # Print an opening statement\n",
    "    \n",
    "    print(\"WELCOME TO BLACKJACK\")\n",
    "    \n",
    "    # Create & shuffle the deck, deal two cards to each player\n",
    "    deck = Deck()\n",
    "    deck.shuffle()\n",
    "    \n",
    "    # instantiate player Hand and add cards\n",
    "    player_hand = Hand()\n",
    "    player_hand.add_card(deck.deal())\n",
    "    player_hand.add_card(deck.deal())\n",
    "    \n",
    "    # instantiate Dealer Hand and add cards\n",
    "    dealer_hand = Hand()\n",
    "    dealer_hand.add_card(deck.deal())\n",
    "    dealer_hand.add_card(deck.deal())\n",
    "        \n",
    "    # Set up the Player's chips\n",
    "    player_chips = Chips()\n",
    "    print(\"You have {} chips\".format(player_chips.total))\n",
    "    \n",
    "    # Prompt the Player for their bet\n",
    "    take_bet(player_chips)\n",
    "    \n",
    "    # Show Dealer's cards, but keep one hidden\n",
    "    show_some(player_hand, dealer_hand)\n",
    "    \n",
    "    while game_on:\n",
    "        \n",
    "        # Prompt the user (Player) to either hit or stand\n",
    "        hit_or_stand(deck, player_hand)\n",
    "        \n",
    "        # Show cards (but keep one dealer card hidden)\n",
    "        show_some(player_hand, dealer_hand)\n",
    "        \n",
    "        # Check if Player busts then break the loop\n",
    "        if player_hand.value > 21:\n",
    "            player_busts(player_hand, dealer_hand, player_chips)\n",
    "            break\n",
    "\n",
    "    # If user has not gone over 21, Dealer hits until 17 or busts\n",
    "    if player_hand.value <= 21:\n",
    "        \n",
    "        while dealer_hand.value < 17:\n",
    "            hit(deck, dealer_hand)\n",
    "    \n",
    "        # Show all the Player and Dealer cards\n",
    "        show_all(player_hand, dealer_hand)\n",
    "        \n",
    "        # Check and run the different winning scenarios\n",
    "        if dealer_hand.value > 21:\n",
    "            dealer_busts(player_hand, dealer_hand, player_chips)\n",
    "            \n",
    "        elif dealer_hand.value > player_hand.value:\n",
    "            dealer_wins(player_hand, dealer_hand, player_chips)\n",
    "        \n",
    "        elif dealer_hand.value < player_hand.value:\n",
    "            player_wins(player_hand, dealer_hand, player_chips)\n",
    "        \n",
    "        else:\n",
    "            push(player_hand, dealer_hand)\n",
    "    \n",
    "    \n",
    "    new_game = input('Would you like to play another hand? y/n: ')\n",
    "    \n",
    "    # Checks if the user's answer is not one of the valid options\n",
    "    while new_game.lower() not in ('y', 'n'):\n",
    "        new_game = input('Would you like to play another hand? y/n: ')\n",
    "    \n",
    "    # If user wants to play another game, iterate over game_on loop again\n",
    "    if new_game[0].lower() == 'y':\n",
    "        game_on = True\n",
    "        continue\n",
    "    \n",
    "    # If user votes not to play again, break the loop\n",
    "    else:\n",
    "        print('Thank you for playing!')\n",
    "        break"
   ]
  },
  {
   "cell_type": "markdown",
   "metadata": {},
   "source": [
    "And that's it! Remember, these steps may differ significantly from your own solution. That's OK! Keep working on different sections of your program until you get the desired results. It takes a lot of time and patience! As always, feel free to post questions and comments to the QA Forums.\n",
    "# Good job!"
   ]
  }
 ],
 "metadata": {
  "kernelspec": {
   "display_name": "Python 3",
   "language": "python",
   "name": "python3"
  },
  "language_info": {
   "codemirror_mode": {
    "name": "ipython",
    "version": 3
   },
   "file_extension": ".py",
   "mimetype": "text/x-python",
   "name": "python",
   "nbconvert_exporter": "python",
   "pygments_lexer": "ipython3",
   "version": "3.7.1"
  }
 },
 "nbformat": 4,
 "nbformat_minor": 1
}
